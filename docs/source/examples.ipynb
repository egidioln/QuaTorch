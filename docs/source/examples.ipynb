{
 "cells": [
  {
   "cell_type": "markdown",
   "id": "6bcf8e50",
   "metadata": {},
   "source": [
    "# Examples\n",
    "\n",
    "Let's start by importing the {py:class}`quatorch.Quaternion` class:"
   ]
  },
  {
   "cell_type": "code",
   "execution_count": 1,
   "id": "3a61013c",
   "metadata": {
    "tags": [
     "remove-output"
    ]
   },
   "outputs": [
    {
     "name": "stderr",
     "output_type": "stream",
     "text": [
      "/home/egidio/repos/quatorch/.venv/lib/python3.10/site-packages/torch/_subclasses/functional_tensor.py:279: UserWarning: Failed to initialize NumPy: No module named 'numpy' (Triggered internally at /pytorch/torch/csrc/utils/tensor_numpy.cpp:81.)\n",
      "  cpu = _conversion_method_template(device=torch.device(\"cpu\"))\n"
     ]
    }
   ],
   "source": [
    "from quatorch import Quaternion"
   ]
  },
  {
   "cell_type": "markdown",
   "id": "2806da51",
   "metadata": {},
   "source": [
    "There are two main ways to initialize a quaternion: from four scalars or from a tensor that has shape $(..., 4)$. Here are two ways to define a 45 degrees rotation around the X axis:"
   ]
  },
  {
   "cell_type": "code",
   "execution_count": 2,
   "id": "c85ece73",
   "metadata": {},
   "outputs": [
    {
     "name": "stdout",
     "output_type": "stream",
     "text": [
      "(q == q2) = tensor([True, True, True, True])\n"
     ]
    }
   ],
   "source": [
    "import torch\n",
    "\n",
    "\n",
    "# Create a quaternion from four scalars (W, X, Y, Z)\n",
    "q = Quaternion(0.9239, 0.3827, 0.0, 0.0)\n",
    "\n",
    "# Or from a tensor of shape (..., 4)\n",
    "q2 = Quaternion(torch.tensor([0.9239, 0.3827, 0.0, 0.0]))\n",
    "\n",
    "print(f\"{(q == q2) = }\")"
   ]
  },
  {
   "cell_type": "markdown",
   "id": "447056ef",
   "metadata": {},
   "source": [
    "As you can see, both methods create the same quaternion. Also notice that element-wise comparison was performed, as a quaternion is still a subclass of tensor. Let's now inspect quaternion multiplication and power:"
   ]
  },
  {
   "cell_type": "code",
   "execution_count": 3,
   "id": "f0d9c5e1",
   "metadata": {},
   "outputs": [
    {
     "name": "stdout",
     "output_type": "stream",
     "text": [
      "q**4 = Quaternion([-2.9846e-05,  1.0000e+00,  0.0000e+00,  0.0000e+00])\n",
      "q*q*q*q = Quaternion([-2.9832e-05,  1.0000e+00,  0.0000e+00,  0.0000e+00])\n"
     ]
    }
   ],
   "source": [
    "\n",
    "\n",
    "# Normalize\n",
    "q = q.normalize()\n",
    "\n",
    "print(f\"{q**4 = }\")\n",
    "print(f\"{q*q*q*q = }\")"
   ]
  },
  {
   "cell_type": "markdown",
   "id": "b086eb3d",
   "metadata": {},
   "source": [
    "As expected both returned the same result, which represents a 180 degrees rotation around the X axis. We can verify that by converting it to a axis-angle representation:"
   ]
  },
  {
   "cell_type": "code",
   "execution_count": 4,
   "id": "4b84596b",
   "metadata": {},
   "outputs": [
    {
     "name": "stdout",
     "output_type": "stream",
     "text": [
      "Axis: tensor([1.0000, 0.0000, 0.0000]), Angle (radians): 180.00341796875\n"
     ]
    }
   ],
   "source": [
    "axis, angle = (q**4).to_axis_angle()\n",
    "print(f\"Axis: {axis}, Angle (radians): {angle.rad2deg()}\")\n"
   ]
  },
  {
   "cell_type": "markdown",
   "id": "2e8f3e99",
   "metadata": {},
   "source": [
    "Or a rotation matrix:"
   ]
  },
  {
   "cell_type": "code",
   "execution_count": 5,
   "id": "397b9997",
   "metadata": {},
   "outputs": [
    {
     "data": {
      "text/plain": [
       "tensor([[ 1.0000,  0.0000,  0.0000],\n",
       "        [ 0.0000,  0.7071, -0.7071],\n",
       "        [ 0.0000,  0.7071,  0.7071]])"
      ]
     },
     "execution_count": 5,
     "metadata": {},
     "output_type": "execute_result"
    }
   ],
   "source": [
    "# Convert to rotation matrix\n",
    "q.to_rotation_matrix()"
   ]
  },
  {
   "cell_type": "markdown",
   "id": "f8b886a3",
   "metadata": {},
   "source": [
    "<div class=\"admonition tip\">\n",
    "<div class=\"title\">Tip</div>\n",
    " <p> You may also contruct quaternions from rotation matrix or an axis-angle representation using the methods [`quatorch.Quaternion.from_rotation_matrix`](project:api.md#quatorch.Quaternion.from_rotation_matrix) and [`quatorch.Quaternion.from_axis_angle`](project:api.md#quatorch.Quaternion.from_axis_angle)</p>\n",
    "</div>\n",
    "\n",
    "\n",
    "One interesting property of quaternions is that they take value os a 4D sphere. This means that we can interpolate between two quaternions using spherical linear interpolation ([`quatorch.Quaternion.slerp`](project:api.md#quatorch.Quaternion.slerp) ). Let's see how it works:"
   ]
  },
  {
   "cell_type": "code",
   "execution_count": 6,
   "id": "2d772be1",
   "metadata": {},
   "outputs": [
    {
     "data": {
      "text/plain": [
       "Quaternion([0.7071, 0.7071, 0.0000, 0.0000])"
      ]
     },
     "execution_count": 6,
     "metadata": {},
     "output_type": "execute_result"
    }
   ],
   "source": [
    "# Slerp between quaternions\n",
    "q_final = q**4\n",
    "t = 1/3\n",
    "q.slerp(q_final, t)"
   ]
  },
  {
   "cell_type": "markdown",
   "id": "94006cc5",
   "metadata": {},
   "source": [
    "Notice that this (and all other operations documented in the [API reference](project:api.md) for more details), support broadcasting, so you can work with batches of quaternions seamlessly. In the example above, let's use `t` as a tensor of shape (4, 1) to get a batch of interpolated quaternions:"
   ]
  },
  {
   "cell_type": "code",
   "execution_count": 11,
   "id": "675e7c87",
   "metadata": {},
   "outputs": [
    {
     "data": {
      "text/plain": [
       "Quaternion([[ 9.2388e-01,  3.8269e-01,  0.0000e+00,  0.0000e+00],\n",
       "            [ 7.0710e-01,  7.0712e-01,  0.0000e+00,  0.0000e+00],\n",
       "            [ 3.8266e-01,  9.2389e-01,  0.0000e+00,  0.0000e+00],\n",
       "            [-2.9862e-05,  1.0000e+00,  0.0000e+00,  0.0000e+00]])"
      ]
     },
     "execution_count": 11,
     "metadata": {},
     "output_type": "execute_result"
    }
   ],
   "source": [
    "q.slerp(q_final, torch.linspace(0, 1, steps=4).unsqueeze(-1))  # Batch of interpolation"
   ]
  }
 ],
 "metadata": {
  "kernelspec": {
   "display_name": "quatorch",
   "language": "python",
   "name": "python3"
  },
  "language_info": {
   "codemirror_mode": {
    "name": "ipython",
    "version": 3
   },
   "file_extension": ".py",
   "mimetype": "text/x-python",
   "name": "python",
   "nbconvert_exporter": "python",
   "pygments_lexer": "ipython3",
   "version": "3.10.17"
  }
 },
 "nbformat": 4,
 "nbformat_minor": 5
}
